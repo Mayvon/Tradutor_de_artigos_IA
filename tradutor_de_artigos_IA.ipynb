{
  "nbformat": 4,
  "nbformat_minor": 0,
  "metadata": {
    "colab": {
      "provenance": []
    },
    "kernelspec": {
      "name": "python3",
      "display_name": "Python 3"
    },
    "language_info": {
      "name": "python"
    }
  },
  "cells": [
    {
      "cell_type": "code",
      "execution_count": null,
      "metadata": {
        "id": "ppyWBH7FkyG9"
      },
      "outputs": [],
      "source": [
        "!pip install requests beautifulsoup4 openai langchain-openai"
      ]
    },
    {
      "cell_type": "code",
      "source": [
        "import requests\n",
        "from bs4 import BeautifulSoup\n",
        "\n",
        "def extract_text_from_url(url):\n",
        "    response = requests.get(url)\n",
        "    if response.status_code == 200:\n",
        "        soup = BeautifulSoup(response.text, 'html.parser')\n",
        "        for script_or_style in soup([\"script\", \"style\"]):\n",
        "           script_or_style.decompose()\n",
        "        texto = soup.get_text(separator=' ')\n",
        "        #Limpar Texto\n",
        "        linhas = (line.strip() for line in texto.splitlines())\n",
        "        chunks = (phrase.strip() for line in linhas for phrase in line.split(\"  \"))\n",
        "        texto_limpo = '\\n'.join(chunk for chunk in chunks if chunk)\n",
        "        return texto_limpo\n",
        "    else:\n",
        "        print(f\"Failed to retrieve the webpage. Status code: {response.status_code}\")\n",
        "        return None\n",
        "\n",
        "\n",
        "    text = soup.get_text()\n",
        "    return text\n",
        "\n",
        "\n",
        "\n"
      ],
      "metadata": {
        "id": "wZ3tuUNNlV1o"
      },
      "execution_count": null,
      "outputs": []
    },
    {
      "cell_type": "code",
      "source": [
        "from langchain_openai.chat_models.azure import AzureChatOpenAI\n",
        "\n",
        "client = AzureChatOpenAI (\n",
        "    azure_endpoint= \"SEU_ENDPOINT_AQUI\",\n",
        "    api_key= \"SUA_CHAVE_AQUI\",\n",
        "    api_version= \"SUA_VERSAO_AQUI\",\n",
        "    deployment_name= \"NOME_DA_VERSAO_AQUI\",\n",
        "    max_retries=0\n",
        ")\n",
        "\n",
        "def translate_article(text, lang):\n",
        "  messeges = [\n",
        "      (\"system\", \"Você atua como tradutor de textos\"),\n",
        "      (\"user\", f\"Traduza o {text} para o idioma {lang} e responda em markdown\")\n",
        "  ]\n",
        "\n",
        "  response = client.invoke(messeges)\n",
        "  print(response.content)\n",
        "  return response.content\n",
        "\n"
      ],
      "metadata": {
        "id": "TreRwztipZ_5"
      },
      "execution_count": null,
      "outputs": []
    },
    {
      "cell_type": "code",
      "source": [
        "url = 'https://dev.to/kellycodeschaos/ux-engineering-for-design-systems-274d'\n",
        "text = extract_text_from_url(url)\n",
        "article = translate_article(text, \"pt-br\")\n",
        "\n",
        "print(article)"
      ],
      "metadata": {
        "id": "8To9iABThdX5"
      },
      "execution_count": null,
      "outputs": []
    }
  ]
}